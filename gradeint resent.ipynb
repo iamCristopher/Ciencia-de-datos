{
 "cells": [
  {
   "cell_type": "code",
   "execution_count": 59,
   "id": "1686de60",
   "metadata": {},
   "outputs": [],
   "source": [
    "import matplotlib.pyplot as plt\n",
    "import numpy as np\n",
    "import random\n",
    "from matplotlib.ticker import AutoMinorLocator"
   ]
  },
  {
   "cell_type": "code",
   "execution_count": 60,
   "id": "8b9aa5f4",
   "metadata": {},
   "outputs": [],
   "source": [
    "def cuadratica(x):\n",
    "    return x**2"
   ]
  },
  {
   "cell_type": "code",
   "execution_count": 61,
   "id": "aafb8dcc",
   "metadata": {},
   "outputs": [],
   "source": [
    "xv= np.linspace(-6,6,50)\n"
   ]
  },
  {
   "cell_type": "code",
   "execution_count": 62,
   "id": "e1e089eb",
   "metadata": {},
   "outputs": [],
   "source": [
    "def derivada(f,x,h=0.001):\n",
    "    return (f(x+h)- f(x))/h"
   ]
  },
  {
   "cell_type": "code",
   "execution_count": 63,
   "id": "73d4185e",
   "metadata": {},
   "outputs": [],
   "source": [
    "x= random.uniform(-6,6)\n",
    "epocas=400\n",
    "learning_rate= 0.01\n",
    "for epoca in range(epocas):\n",
    "    #calcular gradiente en el punto actual\n",
    "    gradiente= derivada(cuadratica,x,0.0001)\n",
    "    \n",
    "    #dar un paso pequeño en la direccion contraria al gradiente\n",
    "    x= x - gradiente*learning_rate\n",
    "    #print(epoca,x)\n"
   ]
  },
  {
   "cell_type": "code",
   "execution_count": 64,
   "id": "f9d1d7e3",
   "metadata": {},
   "outputs": [
    {
     "name": "stdout",
     "output_type": "stream",
     "text": [
      "[0.27311837442299747, 0.27457202988743656]\n"
     ]
    }
   ],
   "source": [
    "theta= [random.uniform(-1,1), random.uniform(-1,1)]\n",
    "print(theta)\n"
   ]
  },
  {
   "cell_type": "code",
   "execution_count": 65,
   "id": "4d064674",
   "metadata": {},
   "outputs": [],
   "source": [
    "x=range(-25,25)\n",
    "y=[20*xv+5 for xv in x]"
   ]
  },
  {
   "cell_type": "code",
   "execution_count": 66,
   "id": "73152db3",
   "metadata": {},
   "outputs": [],
   "source": [
    "def mse(x, y,theta):\n",
    "    m,b =theta\n",
    "    residuos = [(y_i-(m*x_i+b))**(2) for x_i, y_i in zip(x,y)]\n",
    "    mse= sum(residuos)/ len(residuos)\n",
    "    return mse"
   ]
  },
  {
   "cell_type": "code",
   "execution_count": 67,
   "id": "abdfdaa5",
   "metadata": {},
   "outputs": [],
   "source": [
    "def limite_de_cuociente(x,y,f,v,i,h=0.0001):\n",
    "    #agregar el diferencial h solo al i esimo elemento de v\n",
    "    w= [v_j + (h if j==i else 0) for j,v_j in enumerate(v)]\n",
    "    return (f(x,y,w)- f(x,y,v))/h\n"
   ]
  },
  {
   "cell_type": "code",
   "execution_count": 68,
   "id": "0f1b59a3",
   "metadata": {},
   "outputs": [],
   "source": [
    "def estimate_gradient(x,y,f,v,h=0.0001):\n",
    "    return [limite_de_cuociente(x,y,f,v,i,h) for i in range(len(v))]"
   ]
  },
  {
   "cell_type": "code",
   "execution_count": 69,
   "id": "490c7997",
   "metadata": {},
   "outputs": [],
   "source": [
    "def paso_en_gradiente(v, gradient, step_size):\n",
    "    step= [step_size*g_i for g_i in gradient]\n",
    "    return [a+b for a,b in zip(v,step)]"
   ]
  },
  {
   "cell_type": "code",
   "execution_count": 70,
   "id": "81e06d80",
   "metadata": {},
   "outputs": [],
   "source": [
    "epocas= 60000\n",
    "for epoca in range(epocas):\n",
    "    grad= estimate_gradient(x,y,mse, theta,h=0.001)\n",
    "    theta= paso_en_gradiente(theta,grad, -0.0001)\n",
    "    #print(epoca,theta)"
   ]
  },
  {
   "cell_type": "code",
   "execution_count": 71,
   "id": "8decfb68",
   "metadata": {},
   "outputs": [],
   "source": [
    "def gradiente_mse(x, y, theta):\n",
    "    pendiente, intercepto = theta\n",
    "    y_pred = [pendiente * xv + intercepto for xv in x]\n",
    "\n",
    "    # Derivada parcial respecto a la pendiente\n",
    "    g1 = 2 / len(x) * sum([ (y_p - y_d) * x_d for x_d, y_d, y_p in zip(x, y, y_pred) ])\n",
    "\n",
    "    # Derivada parcial respecto al intercepto\n",
    "    g2 = 2 / len(x) * sum([ (y_p - y_d) for x_d, y_d, y_p in zip(x, y, y_pred) ])\n",
    "    return [g1, g2]"
   ]
  },
  {
   "cell_type": "code",
   "execution_count": 72,
   "id": "6035a8ee",
   "metadata": {},
   "outputs": [],
   "source": [
    "x= range(-50,50)\n",
    "y= [20*xv +5 for xv in x]"
   ]
  },
  {
   "cell_type": "code",
   "execution_count": 73,
   "id": "e98c184a",
   "metadata": {},
   "outputs": [],
   "source": [
    "theta= [random.uniform(-1,1),random.uniform(-1,1)]\n",
    "learning_rate= 0.001\n",
    "epocas=5000\n",
    "for epoca in range(epocas):\n",
    "    #calcular el gradiente\n",
    "    grad= gradiente_mse(x,y,theta)\n",
    "    #dar un paso en la direccion contraria al gradiente\n",
    "    theta= paso_en_gradiente(theta, grad, -learning_rate)\n",
    "    #print(epoca,theta)"
   ]
  },
  {
   "cell_type": "code",
   "execution_count": 74,
   "id": "d1c45f3a",
   "metadata": {},
   "outputs": [],
   "source": [
    "# Generamos datos con tendencia lineal\n",
    "x = 2 * np.random.rand(100)\n",
    "# pendiente = 3\n",
    "# intercepto = 4\n",
    "y = 4 + 3 * x + np.random.rand(100)"
   ]
  },
  {
   "cell_type": "markdown",
   "id": "fdb102e3",
   "metadata": {},
   "source": [
    "## batch gradient descent"
   ]
  },
  {
   "cell_type": "code",
   "execution_count": 75,
   "id": "a452d45e",
   "metadata": {},
   "outputs": [
    {
     "name": "stdout",
     "output_type": "stream",
     "text": [
      "Solucion:  [2.962199147045892, 4.519726816506575]\n",
      "Num iteraciones:  50335\n"
     ]
    }
   ],
   "source": [
    "# comenzar con valores aleatorios para la pendiente\n",
    "# y el intercepto\n",
    "theta = [random.uniform(-1,1), random.uniform(-1,1)]\n",
    "learning_rate = 0.001\n",
    "n_iter_max = 100_000\n",
    "gtol = 1e-6 # tolerancia en la norma del vector gradiente\n",
    "# Gradient descent\n",
    "iterar = True\n",
    "n_iter = 0\n",
    "while iterar:\n",
    "    # Calcular el gradiente\n",
    "    grad = gradiente_mse(x, y, theta)\n",
    "    # Realizar un paso en la dirección contraria\n",
    "    # al gradiente\n",
    "    theta = paso_en_gradiente(theta, grad, -learning_rate)\n",
    "    # Check 1: ver si se alcanzó el número máximo de iteraciones\n",
    "    if n_iter > n_iter_max:\n",
    "        iterar = False\n",
    "    # Check 2: revisar si la norma del gradiente ya alcanzó el\n",
    "    # mínimo tamaño permitido por el criterio de tolerancia\n",
    "    norm_grad = sum([g**2 for g in grad])**(1/2)\n",
    "    if norm_grad < gtol:\n",
    "        iterar = False\n",
    "    # Contabilizar la iteracion\n",
    "    n_iter += 1\n",
    "print(\"Solucion: \", theta)\n",
    "print(\"Num iteraciones: \", n_iter)"
   ]
  },
  {
   "cell_type": "code",
   "execution_count": 76,
   "id": "fc9ad922",
   "metadata": {},
   "outputs": [
    {
     "name": "stdout",
     "output_type": "stream",
     "text": [
      "R-squared:  0.9655481238532825\n"
     ]
    }
   ],
   "source": [
    "# Calcular el coeficiente de determinación R-squared\n",
    "# Suma total de cuadrados: variacion total de y_i's respecto a su promedio\n",
    "y_prom = np.mean(y)\n",
    "suma_total_cuadrados = sum([v**2 for v in y - y_prom])\n",
    "# Suma de errores cuadráticos\n",
    "suma_sqerrors = sum([ (theta[0] * xv + theta[1] - yv)**2 for xv,yv in zip(x,y) ])\n",
    "# calculo de r-squared\n",
    "r_squared = 1 - suma_sqerrors / suma_total_cuadrados\n",
    "print(\"R-squared: \", r_squared)\n"
   ]
  },
  {
   "cell_type": "code",
   "execution_count": 77,
   "id": "492807d2",
   "metadata": {},
   "outputs": [
    {
     "data": {
      "image/png": "[encoded data removed]",
      "text/plain": [
       "<Figure size 500x350 with 1 Axes>"
      ]
     },
     "metadata": {
      "needs_background": "light"
     },
     "output_type": "display_data"
    }
   ],
   "source": [
    "fig=plt.figure(1,figsize=(5,3.5),dpi=100)\n",
    "fig.subplots_adjust(left=0.15,bottom=0.12,right=0.95,top=0.97,hspace=0.24,wspace=0.20)\n",
    "ax1=fig.add_subplot(111)\n",
    "ax1.set_xlabel(\"X\")\n",
    "ax1.set_ylabel(\"Y\")\n",
    "ax1.set_xlim(-0.2,2.2)\n",
    "ax1.set_ylim(3.0,12.5)\n",
    "ax1.scatter(x,y,marker=\".\",fc=\"black\",ec=\"none\",s=40,label=\"Puntos\")\n",
    "xv=np.linspace(0,2,100)\n",
    "ax1.plot(xv,xv*theta[0]+theta[1],color=\"red\",label=\"Ajuste lineal\")\n",
    "ax1.xaxis.set_minor_locator(AutoMinorLocator(4))\n",
    "ax1.yaxis.set_minor_locator(AutoMinorLocator(5))\n",
    "ax1.legend(loc=2,scatterpoints=1,handletextpad=0.001,fontsize=11)\n",
    "plt.show()"
   ]
  },
  {
   "cell_type": "markdown",
   "id": "e789f1ef",
   "metadata": {},
   "source": [
    "## descenso de gradiente estocástico"
   ]
  },
  {
   "cell_type": "code",
   "execution_count": 78,
   "id": "577dbd5b",
   "metadata": {},
   "outputs": [],
   "source": [
    "# Generamos datos con tendencia lineal\n",
    "x = 2 * np.random.rand(100)\n",
    "# pendiente = 3\n",
    "# intercepto = 4\n",
    "y = 4 + 3 * x + np.random.rand(100)"
   ]
  },
  {
   "cell_type": "code",
   "execution_count": 79,
   "id": "d22887b2",
   "metadata": {},
   "outputs": [
    {
     "name": "stdout",
     "output_type": "stream",
     "text": [
      "[2.9168880749546124, 4.6264249449802195]\n"
     ]
    }
   ],
   "source": [
    "n_epocas = 50\n",
    "t0, t1 = 5, 50 # hiperparámetros de la learning schedule\n",
    "def learning_schedule(t):\n",
    "    return t0 / (t + t1)\n",
    "theta = np.random.rand(2) # parámetros iniciales aleatorios\n",
    "# El número de puntos\n",
    "m = len(x)\n",
    "thetas = []\n",
    "for epoca in range(n_epocas):\n",
    "    for i in range(m):\n",
    "        random_index = np.random.randint(m)\n",
    "        xi = x[random_index:random_index+1]\n",
    "        yi = y[random_index:random_index+1]\n",
    "        grad = gradiente_mse(x, y, theta)\n",
    "        \n",
    "        learning_rate = learning_schedule(epoca * m + i)\n",
    "        theta = paso_en_gradiente(theta, grad, -learning_rate)\n",
    "        thetas.append(theta)\n",
    "print(theta)"
   ]
  },
  {
   "cell_type": "markdown",
   "id": "7900ed91",
   "metadata": {},
   "source": [
    "## descenso de gradiente mini-batch"
   ]
  },
  {
   "cell_type": "code",
   "execution_count": 80,
   "id": "0e7da5f7",
   "metadata": {},
   "outputs": [
    {
     "name": "stdout",
     "output_type": "stream",
     "text": [
      "[2.924795913654107, 4.625711245777191]\n"
     ]
    }
   ],
   "source": [
    "n_epocas = 1000\n",
    "batch_size = 10\n",
    "t0, t1 = 5, 50 # hiperparámetros de la learning schedule\n",
    "def learning_schedule(t):\n",
    "    return t0 / (t + t1)\n",
    "theta = np.random.rand(2) # parametros iniciales aleatorios\n",
    "# Numero de puntos\n",
    "m = len(x)\n",
    "thetas = []\n",
    "for epoca in range(n_epocas):\n",
    "    i_mb = np.random.randint(0, m, batch_size)\n",
    "    xi = x[i_mb]\n",
    "    yi = y[i_mb]\n",
    "    grad = gradiente_mse(xi, yi, theta)\n",
    "    learning_rate = learning_schedule(epoca)\n",
    "    theta = paso_en_gradiente(theta, grad, -learning_rate)\n",
    "    thetas.append(theta)\n",
    "print(theta)"
   ]
  },
  {
   "cell_type": "markdown",
   "id": "696ce256",
   "metadata": {},
   "source": [
    "## clase 3"
   ]
  },
  {
   "cell_type": "code",
   "execution_count": 81,
   "id": "30b8fd9e",
   "metadata": {},
   "outputs": [],
   "source": [
    "def gradiente_mse_pol(x, y, theta):\n",
    "    \"\"\"\n",
    "    x --> lista de tuplas de features [(x1, x2, x3 ...)_1, (x1, x2, x3 ...)_1 ...]\n",
    "    y --> lista de valores de variable independiente [y1, y2, y3, ...]\n",
    "    \"\"\"\n",
    "    y_pred = []\n",
    "    for xa in x:\n",
    "        yp = sum([t*xv for xv, t in zip(xa, theta)])\n",
    "        y_pred.append(yp)\n",
    "    # Las derivadas parciales serán calculadas para cada feature\n",
    "    derivadas = []\n",
    "    for i in range(len(x[0])):\n",
    "        g = 2 / len(x[:,i]) * sum([ (y_p - y_d) * x_d for x_d, y_d, y_p in zip(x[:,i], y, y_pred) ])\n",
    "        derivadas.append(g)\n",
    "    return derivadas"
   ]
  },
  {
   "cell_type": "code",
   "execution_count": 82,
   "id": "a2f24303",
   "metadata": {},
   "outputs": [],
   "source": [
    "#profe\n",
    "def gradiente_mse_pol_clas(x, y ,theta):\n",
    "    #theta es un lista con los valores de los parametros\n",
    "    #y es una lista de numeros(arreglo de 1 dimesion)\n",
    "    #x coleccion de tuplas en una lista, que siempre lleva un 1 (1,x1i,x2i) tupla de tres valores\n",
    "    \n",
    "    #primero calcular las predicciones  del modelo con parametros de input\n",
    "    y_pred= []\n",
    "    for xa in x:\n",
    "        yp=sum([t*xv for xv,t in zip(xa,theta)])\n",
    "        y_pred.append(yp)\n",
    "        \n",
    "    #calcular derivadas parciales para cada atributo\n",
    "    derivadasP=[]\n",
    "    for i in range(len(x[0])):\n",
    "        g= 2 / len(y) * sum( [(y_p-y_d)* x_d for x_d, y_d, y_p in zip(x[:,i], y, y_pred)] )\n",
    "        derivadasP.append(g)\n",
    "    return derivadasP\n",
    "        "
   ]
  },
  {
   "cell_type": "code",
   "execution_count": 83,
   "id": "1b2c459e",
   "metadata": {},
   "outputs": [
    {
     "data": {
      "image/png": "[encoded data removed]",
      "text/plain": [
       "<Figure size 500x350 with 1 Axes>"
      ]
     },
     "metadata": {
      "needs_background": "light"
     },
     "output_type": "display_data"
    }
   ],
   "source": [
    "m = 100\n",
    "x = 6 * np.random.rand(m) - 3\n",
    "y = 2 + x + 0.5 * x**2 + 0.5*np.random.randn(m)\n",
    "#grafico\n",
    "fig=plt.figure(1,figsize=(5,3.5),dpi=100)\n",
    "fig.subplots_adjust(left=0.15,bottom=0.12,right=0.95,top=0.97,hspace=0.24,wspace=0.20)\n",
    "ax1=fig.add_subplot(111)\n",
    "ax1.set_xlabel(\"X\")\n",
    "ax1.set_ylabel(\"Y\")\n",
    "\n",
    "ax1.scatter(x,y,marker=\".\",fc=\"black\",ec=\"none\",s=40,label=\"Puntos\")\n",
    "xv=np.linspace(0,2,100)\n",
    "#ax1.plot(xv,xv*theta[0]+theta[1],color=\"red\",label=\"Ajuste lineal\")\n",
    "ax1.xaxis.set_minor_locator(AutoMinorLocator(4))\n",
    "ax1.yaxis.set_minor_locator(AutoMinorLocator(5))\n",
    "ax1.legend(loc=2,scatterpoints=1,handletextpad=0.001,fontsize=11)\n",
    "plt.show()"
   ]
  },
  {
   "cell_type": "code",
   "execution_count": 84,
   "id": "d4ca3119",
   "metadata": {},
   "outputs": [
    {
     "name": "stdout",
     "output_type": "stream",
     "text": [
      "[2.087584832178227, 0.9994208429774775, 0.4644984624242041]\n",
      "19063\n"
     ]
    }
   ],
   "source": [
    "# calculamos  el gradient descent\n",
    "theta=[random.uniform(-1,1),random.uniform(-1,1),random.uniform(-1,1)]\n",
    "\n",
    "X= np.array([(1,xv,xv**2) for xv in x])\n",
    "learning_rate= 0.001\n",
    "n_iter_max= 100_000\n",
    "gtol= 1e-6\n",
    "\n",
    "#batch gradiente descent\n",
    "iterar= True\n",
    "n_iter= 0\n",
    "while iterar:\n",
    "    gradiente= gradiente_mse_pol_clas(X,y,theta)\n",
    "    \n",
    "    #damos un paso en la direccion contrario al gradiente\n",
    "    theta= paso_en_gradiente(theta,gradiente,-learning_rate)\n",
    "    \n",
    "    #revisar si se alcanzo el numero maximo de iteraciones\n",
    "    if n_iter > n_iter_max:\n",
    "        iterar=False\n",
    "        \n",
    "    #revisamos si la norma del gradiente alcanzo el umbral minimo\n",
    "    norm_grad= sum([g**2 for g in gradiente])**(1/2)\n",
    "    if norm_grad < gtol:\n",
    "        iterar = False\n",
    "    n_iter +=1\n",
    "print(theta)\n",
    "print(n_iter)"
   ]
  },
  {
   "cell_type": "code",
   "execution_count": 85,
   "id": "c12c5d90",
   "metadata": {},
   "outputs": [
    {
     "data": {
      "image/png": "[encoded data removed]",
      "text/plain": [
       "<Figure size 500x350 with 1 Axes>"
      ]
     },
     "metadata": {
      "needs_background": "light"
     },
     "output_type": "display_data"
    }
   ],
   "source": [
    "#grafico\n",
    "fig=plt.figure(1,figsize=(5,3.5),dpi=100)\n",
    "fig.subplots_adjust(left=0.15,bottom=0.12,right=0.95,top=0.97,hspace=0.24,wspace=0.20)\n",
    "ax1=fig.add_subplot(111)\n",
    "ax1.set_xlabel(\"X\")\n",
    "ax1.set_ylabel(\"Y\")\n",
    "\n",
    "ax1.scatter(x,y,marker=\".\",fc=\"black\",ec=\"none\",s=40,label=\"Puntos\")\n",
    "xv=np.linspace(-3,3,100)\n",
    "yv= theta[0]+ theta[1] * xv + theta[2]* xv**2\n",
    "\n",
    "\n",
    "ax1.plot(xv,yv,color=\"red\")\n",
    "ax1.xaxis.set_minor_locator(AutoMinorLocator(4))\n",
    "ax1.yaxis.set_minor_locator(AutoMinorLocator(5))\n",
    "ax1.legend(loc=2,scatterpoints=1,handletextpad=0.001,fontsize=11)\n",
    "plt.show()"
   ]
  },
  {
   "cell_type": "code",
   "execution_count": 86,
   "id": "3d971924",
   "metadata": {},
   "outputs": [
    {
     "name": "stdout",
     "output_type": "stream",
     "text": [
      "R-squared: 0.9603284114457556\n"
     ]
    }
   ],
   "source": [
    "# Calcular el coeficiente de determinación R-squared\n",
    "\n",
    "# suma total de cuadrados: variacion total de los y_i respecto a su promedio\n",
    "y_prom = np.mean(y)\n",
    "suma_total_cuadrados= sum([v**2 for v in y-y_prom])\n",
    "\n",
    "#suma de los errores cuadraticos\n",
    "sum_sqerrors= sum([(theta[0]*xv[0] + theta[1]*xv[1] + theta[2]*xv[2] -yv)**2 for xv, yv, in zip(X,y)])\n",
    "\n",
    "#calculo de R-squared\n",
    "r_squared= 1-sum_sqerrors/ suma_total_cuadrados\n",
    "\n",
    "print(\"R-squared:\",r_squared )\n"
   ]
  },
  {
   "cell_type": "code",
   "execution_count": 87,
   "id": "914ca324",
   "metadata": {},
   "outputs": [
    {
     "data": {
      "image/png": "[encoded data removed]",
      "text/plain": [
       "<Figure size 500x350 with 1 Axes>"
      ]
     },
     "metadata": {
      "needs_background": "light"
     },
     "output_type": "display_data"
    }
   ],
   "source": [
    "#ejemplo polinomio grado 3\n",
    "m = 100\n",
    "x = 6 * np.random.rand(m) - 3\n",
    "y = 2 + x + 0.5 * x**2 + 1.3* x**3 + 0.5*np.random.randn(m)\n",
    "#grafico\n",
    "fig=plt.figure(1,figsize=(5,3.5),dpi=100)\n",
    "fig.subplots_adjust(left=0.15,bottom=0.12,right=0.95,top=0.97,hspace=0.24,wspace=0.20)\n",
    "ax1=fig.add_subplot(111)\n",
    "ax1.set_xlabel(\"X\")\n",
    "ax1.set_ylabel(\"Y\")\n",
    "\n",
    "ax1.scatter(x,y,marker=\".\",fc=\"black\",ec=\"none\",s=40,label=\"Puntos\")\n",
    "\n",
    "\n",
    "#ax1.plot(xv,xv*theta[0]+theta[1],color=\"red\",label=\"Ajuste lineal\")\n",
    "ax1.xaxis.set_minor_locator(AutoMinorLocator(4))\n",
    "ax1.yaxis.set_minor_locator(AutoMinorLocator(5))\n",
    "ax1.legend(loc=2,scatterpoints=1,handletextpad=0.001,fontsize=11)\n",
    "plt.show()"
   ]
  },
  {
   "cell_type": "code",
   "execution_count": 88,
   "id": "1a9842c2",
   "metadata": {},
   "outputs": [
    {
     "name": "stdout",
     "output_type": "stream",
     "text": [
      "[2.0203674243483474, 1.0654420380680156, 0.47511786378827686, 1.2828840144704674]\n",
      "14668\n"
     ]
    }
   ],
   "source": [
    "# calculamos  el gradient descent\n",
    "theta=[random.uniform(-1,1),random.uniform(-1,1),random.uniform(-1,1),random.uniform(-1,1)]\n",
    "\n",
    "X= np.array([(1,xv,xv**2,xv**3) for xv in x])\n",
    "learning_rate= 0.001\n",
    "n_iter_max= 100_000\n",
    "gtol= 1e-6\n",
    "\n",
    "#batch gradiente descent\n",
    "iterar= True\n",
    "n_iter= 0\n",
    "while iterar:\n",
    "    gradiente= gradiente_mse_pol_clas(X,y,theta)\n",
    "    \n",
    "    #damos un paso en la direccion contrario al gradiente\n",
    "    theta= paso_en_gradiente(theta,gradiente,-learning_rate)\n",
    "    \n",
    "    #revisar si se alcanzo el numero maximo de iteraciones\n",
    "    if n_iter > n_iter_max:\n",
    "        iterar=False\n",
    "        \n",
    "    #revisamos si la norma del gradiente alcanzo el umbral minimo\n",
    "    norm_grad= sum([g**2 for g in gradiente])**(1/2)\n",
    "    if norm_grad < gtol:\n",
    "        iterar = False\n",
    "    n_iter +=1\n",
    "print(theta)\n",
    "print(n_iter)"
   ]
  },
  {
   "cell_type": "code",
   "execution_count": 89,
   "id": "be7b03e7",
   "metadata": {},
   "outputs": [
    {
     "data": {
      "image/png": "[encoded data removed]",
      "text/plain": [
       "<Figure size 500x350 with 1 Axes>"
      ]
     },
     "metadata": {
      "needs_background": "light"
     },
     "output_type": "display_data"
    }
   ],
   "source": [
    "m = 100\n",
    "x = 6 * np.random.rand(m) - 3\n",
    "y = 2 + x + 0.5 * x**2 + 1.3* x**3 + 0.5*np.random.randn(m)\n",
    "#grafico\n",
    "fig=plt.figure(1,figsize=(5,3.5),dpi=100)\n",
    "fig.subplots_adjust(left=0.15,bottom=0.12,right=0.95,top=0.97,hspace=0.24,wspace=0.20)\n",
    "ax1=fig.add_subplot(111)\n",
    "ax1.set_xlabel(\"X\")\n",
    "ax1.set_ylabel(\"Y\")\n",
    "\n",
    "ax1.scatter(x,y,marker=\".\",fc=\"black\",ec=\"none\",s=40,label=\"Puntos\")\n",
    "\n",
    "xv=np.linspace(-3,3,100)\n",
    "yv= theta[0]+ theta[1] * xv + theta[2]* xv**2+ theta[3]*xv**3\n",
    "\n",
    "ax1.plot(xv,yv,color=\"red\",label=\"Ajuste lineal\")\n",
    "\n",
    "ax1.xaxis.set_minor_locator(AutoMinorLocator(4))\n",
    "ax1.yaxis.set_minor_locator(AutoMinorLocator(5))\n",
    "ax1.legend(loc=2,scatterpoints=1,handletextpad=0.001,fontsize=11)\n",
    "plt.show()"
   ]
  },
  {
   "cell_type": "code",
   "execution_count": 90,
   "id": "acec99f7",
   "metadata": {},
   "outputs": [],
   "source": [
    "#ejemplo polinomio grado 4\n",
    "m= 100\n",
    "x= 2.8* np.random.rand(m)-1.4\n",
    "y= 2 + 5*x- 3*x**2 - 8*x**3 + 4*x**4 + 0.2*np.random.randn(m)"
   ]
  },
  {
   "cell_type": "code",
   "execution_count": 91,
   "id": "e1c09dba",
   "metadata": {},
   "outputs": [
    {
     "name": "stdout",
     "output_type": "stream",
     "text": [
      "[1.9730661342206748, 4.958316334596848, -2.8588436905023293, -7.914863027049443, 3.9183950075320686]\n",
      "100002\n"
     ]
    }
   ],
   "source": [
    "# calculamos  el gradient descent\n",
    "theta=[random.uniform(-1,1),random.uniform(-1,1),random.uniform(-1,1),random.uniform(-1,1),random.uniform(-1,1)]\n",
    "\n",
    "X= np.array([(1,xv,xv**2,xv**3,xv**4) for xv in x])\n",
    "learning_rate= 0.001\n",
    "n_iter_max= 100_000\n",
    "gtol= 1e-6\n",
    "\n",
    "#batch gradiente descent\n",
    "iterar= True\n",
    "n_iter= 0\n",
    "while iterar:\n",
    "    gradiente= gradiente_mse_pol_clas(X,y,theta)\n",
    "    \n",
    "    #damos un paso en la direccion contrario al gradiente\n",
    "    theta= paso_en_gradiente(theta,gradiente,-learning_rate)\n",
    "    \n",
    "    #revisar si se alcanzo el numero maximo de iteraciones\n",
    "    if n_iter > n_iter_max:\n",
    "        iterar=False\n",
    "        \n",
    "    #revisamos si la norma del gradiente alcanzo el umbral minimo\n",
    "    norm_grad= sum([g**2 for g in gradiente])**(1/2)\n",
    "    if norm_grad < gtol:\n",
    "        iterar = False\n",
    "    n_iter +=1\n",
    "print(theta)\n",
    "print(n_iter)"
   ]
  },
  {
   "cell_type": "code",
   "execution_count": 96,
   "id": "279e5aab",
   "metadata": {},
   "outputs": [
    {
     "data": {
      "image/png": "[encoded data removed]",
      "text/plain": [
       "<Figure size 500x350 with 1 Axes>"
      ]
     },
     "metadata": {
      "needs_background": "light"
     },
     "output_type": "display_data"
    }
   ],
   "source": [
    "#grafico\n",
    "fig=plt.figure(1,figsize=(5,3.5),dpi=100)\n",
    "fig.subplots_adjust(left=0.15,bottom=0.12,right=0.95,top=0.97,hspace=0.24,wspace=0.20)\n",
    "ax1=fig.add_subplot(111)\n",
    "ax1.set_xlabel(\"X\")\n",
    "ax1.set_ylabel(\"Y\")\n",
    "\n",
    "ax1.scatter(x,y,marker=\".\",fc=\"black\",ec=\"none\",s=40,label=\"Puntos\")\n",
    "\n",
    "xv=np.linspace(-1.5,1.5,100)\n",
    "yv= theta[0]+ theta[1] * xv + theta[2]* xv**2+ theta[3]*xv**3+ theta[4]*xv**4\n",
    "\n",
    "ax1.plot(xv,yv,color=\"red\",label=\"Ajuste lineal\")\n",
    "\n",
    "ax1.xaxis.set_minor_locator(AutoMinorLocator(4))\n",
    "ax1.yaxis.set_minor_locator(AutoMinorLocator(5))"
   ]
  },
  {
   "cell_type": "code",
   "execution_count": null,
   "id": "9ff3b436",
   "metadata": {},
   "outputs": [],
   "source": []
  }
 ],
 "metadata": {
  "kernelspec": {
   "display_name": "Python 3 (ipykernel)",
   "language": "python",
   "name": "python3"
  },
  "language_info": {
   "codemirror_mode": {
    "name": "ipython",
    "version": 3
   },
   "file_extension": ".py",
   "mimetype": "text/x-python",
   "name": "python",
   "nbconvert_exporter": "python",
   "pygments_lexer": "ipython3",
   "version": "3.8.10"
  }
 },
 "nbformat": 4,
 "nbformat_minor": 5
}
